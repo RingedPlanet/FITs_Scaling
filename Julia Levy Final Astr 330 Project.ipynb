{
 "cells": [
  {
   "cell_type": "code",
   "execution_count": 6,
   "id": "0c409c81",
   "metadata": {},
   "outputs": [
    {
     "name": "stdout",
     "output_type": "stream",
     "text": [
      "INFO: \n",
      "                Inconsistent SIP distortion information is present in the FITS header and the WCS object:\n",
      "                SIP coefficients were detected, but CTYPE is missing a \"-SIP\" suffix.\n",
      "                astropy.wcs is using the SIP distortion coefficients,\n",
      "                therefore the coordinates calculated here might be incorrect.\n",
      "\n",
      "                If you do not want to apply the SIP distortion coefficients,\n",
      "                please remove the SIP coefficients from the FITS header or the\n",
      "                WCS object.  As an example, if the image is already distortion-corrected\n",
      "                (e.g., drizzled) then distortion components should not apply and the SIP\n",
      "                coefficients should be removed.\n",
      "\n",
      "                While the SIP distortion coefficients are being applied here, if that was indeed the intent,\n",
      "                for consistency please append \"-SIP\" to the CTYPE in the FITS header or the WCS object.\n",
      "\n",
      "                 [astropy.wcs.wcs]\n"
     ]
    }
   ],
   "source": [
    "# Import Statements\n",
    "from fits_loader import FitsLoader\n",
    "from fits_visualization_utils import interactive_plot\n",
    "from fits_plotter import FitsPlotter\n",
    "\n",
    "# To load FITS data\n",
    "fits_loader = FitsLoader()\n",
    "\n",
    "# Ensure FITS file is loaded correctly: put your FITS File here!\n",
    "header, data, wcs = fits_loader.loading_FITS('M51_HST (2).fits')"
   ]
  },
  {
   "cell_type": "code",
   "execution_count": 8,
   "id": "63085a7c",
   "metadata": {},
   "outputs": [],
   "source": [
    "# Below is the driver statement you can modify. \n",
    "# I suggest subsample of 10 to load FITS faster. \n",
    "# You can view the statistics and recommended scalings of the image\n",
    "# You can change the title, color, and save the image as png. If there is wcs, it should appear in axes of the image"
   ]
  },
  {
   "cell_type": "code",
   "execution_count": 7,
   "id": "f9a20660",
   "metadata": {},
   "outputs": [
    {
     "data": {
      "application/vnd.jupyter.widget-view+json": {
       "model_id": "616f0cce86554598b7f7068a0cca2da0",
       "version_major": 2,
       "version_minor": 0
      },
      "text/plain": [
       "VBox(children=(interactive(children=(FloatSlider(value=-0.6049584746360779, description='vmin', layout=Layout(…"
      ]
     },
     "metadata": {},
     "output_type": "display_data"
    }
   ],
   "source": [
    "import matplotlib.pyplot as plt\n",
    "import numpy as np\n",
    "import os\n",
    "from astropy.io import fits\n",
    "from astropy.wcs import WCS\n",
    "from ipywidgets import interactive, FloatSlider, widgets, HBox, VBox\n",
    "import warnings\n",
    "from tqdm import tqdm\n",
    "import time \n",
    "\n",
    "vmin_slider = FloatSlider(min=np.min(data)-20, max=np.max(data), step=0.1, description='vmin', value=np.min(data), layout={'width': '80%'})\n",
    "vmax_slider = FloatSlider(min=np.min(data), max=np.max(data)+20, step=0.1, description='vmax', value=np.max(data), layout={'width': '80%'})\n",
    "subsample_slider = FloatSlider(min=1, max=20, step=1, description='Subsample Factor', value=1, layout={'width': '80%'})\n",
    "scaling_dropdown = widgets.Dropdown(\n",
    "    options=['linear', 'log', 'sqrt', 'sinh', 'power:2', 'power:3'], \n",
    "    value='linear',\n",
    "    description='Scaling Method:'\n",
    ")\n",
    "x_axis_input = widgets.Text(value='Default X Coordinates', description='X Axis Label:')\n",
    "y_axis_input = widgets.Text(value='Default Y Coordinates', description='Y Axis Label:')\n",
    "title_input = widgets.Text(value='Title', description='Plot Title:')\n",
    "annotation_text = widgets.Text(value='', description='Annotation Text:')\n",
    "save_filename = widgets.Text(value='plot.png', description='Filename:')\n",
    "\n",
    "\n",
    "\n",
    "def interactive_plot(vmin, vmax, subsample_factor, scaling, x_label, y_label, plot_title, cmap):\n",
    "    global fits_plotter  # Declare fits_plotter as a global variable\n",
    "    \n",
    "    fits_plotter = FitsPlotter(data, wcs=wcs)\n",
    "    fits_plotter.plot_image(vmin, vmax, scaling, subsample_factor=int(subsample_factor), cmap=cmap, x_axis=x_label, y_axis=y_label, title=plot_title)\n",
    "\n",
    "def display_stats(_):\n",
    "    fits_plotter = FitsPlotter(data, wcs=wcs)\n",
    "    fits_plotter.display_statistics()\n",
    "\n",
    "\n",
    "    \n",
    "save_button = widgets.Button(description=\"Save Plot\")\n",
    "\n",
    "def save_plot(_):\n",
    "    try:\n",
    "        print(\"Saving plot...\")\n",
    "        if fits_plotter.fig is not None:\n",
    "            filename = save_filename.value\n",
    "            if not filename:\n",
    "                filename = \"plot.png\"\n",
    "            print(\"Filename:\", filename)\n",
    "            fits_plotter.save_plot(filename)\n",
    "            print(\"Plot saved successfully.\")\n",
    "        else:\n",
    "            print(\"No plot to save.\")\n",
    "    except Exception as e:\n",
    "        print(\"Error saving plot:\", e)\n",
    "\n",
    "save_button.on_click(save_plot)\n",
    "\n",
    "def display_suggested_scalings(button):\n",
    "    global fits_plotter\n",
    "    # Display suggested scaling methods and vmin/vmax values\n",
    "    suggested_scalings = fits_plotter.evaluate_scaling_methods()\n",
    "    if suggested_scalings:\n",
    "        print(\"Top three suggested scaling methods:\")\n",
    "        for i, (method, suggested_vmin, suggested_vmax) in enumerate(suggested_scalings):\n",
    "            print(f\"{i+1}. Scaling Method: {method}, Suggested vmin: {suggested_vmin}, Suggested vmax: {suggested_vmax}\")\n",
    "\n",
    "# Define a button for displaying suggested scalings\n",
    "display_scalings_button = widgets.Button(description=\"Display Scalings\")\n",
    "display_scalings_button.on_click(display_suggested_scalings)\n",
    "\n",
    "interactive_plot = interactive(interactive_plot, vmin=vmin_slider, vmax=vmax_slider, subsample_factor=subsample_slider, scaling=scaling_dropdown, x_label=x_axis_input, y_label=y_axis_input, plot_title=title_input, cmap=widgets.Dropdown(options=plt.colormaps(), value='gray_r', description='Color Map:'))\n",
    "stats_button = widgets.Button(description=\"Display Statistics\")\n",
    "save_button = widgets.Button(description=\"Save Plot\")\n",
    "stats_button.on_click(display_stats)\n",
    "save_button.on_click(save_plot)\n",
    "\n",
    "VBox([interactive_plot, stats_button, display_scalings_button, save_filename, save_button])"
   ]
  },
  {
   "cell_type": "code",
   "execution_count": null,
   "id": "219b6580",
   "metadata": {},
   "outputs": [],
   "source": []
  },
  {
   "cell_type": "code",
   "execution_count": null,
   "id": "3749cf62",
   "metadata": {},
   "outputs": [],
   "source": []
  }
 ],
 "metadata": {
  "kernelspec": {
   "display_name": "Python 3 (ipykernel)",
   "language": "python",
   "name": "python3"
  },
  "language_info": {
   "codemirror_mode": {
    "name": "ipython",
    "version": 3
   },
   "file_extension": ".py",
   "mimetype": "text/x-python",
   "name": "python",
   "nbconvert_exporter": "python",
   "pygments_lexer": "ipython3",
   "version": "3.9.7"
  }
 },
 "nbformat": 4,
 "nbformat_minor": 5
}
