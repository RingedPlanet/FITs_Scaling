{
 "cells": [
  {
   "cell_type": "code",
   "execution_count": 2,
   "id": "8fe06bd8",
   "metadata": {},
   "outputs": [
    {
     "data": {
      "application/vnd.jupyter.widget-view+json": {
       "model_id": "d2839da9333f41639b51ae3b0ecc7718",
       "version_major": 2,
       "version_minor": 0
      },
      "text/plain": [
       "interactive(children=(FloatSlider(value=-0.6049584746360779, description='vmin', max=274.4317932128906, min=-1…"
      ]
     },
     "metadata": {},
     "output_type": "display_data"
    }
   ],
   "source": [
    "%matplotlib inline\n",
    "from ipywidgets import interactive, FloatSlider\n",
    "import matplotlib.pyplot as plt\n",
    "import numpy as np\n",
    "import os\n",
    "from astropy.io import fits\n",
    "import warnings\n",
    "\n",
    "# Filter out runtime warnings\n",
    "warnings.filterwarnings(\"ignore\", category=RuntimeWarning)\n",
    "\n",
    "def loading_FITS(string_filepath, extension=0):\n",
    "    try:\n",
    "        # Check if the filepath exists\n",
    "        if not os.path.exists(string_filepath):\n",
    "            raise FileNotFoundError(\"File does not exist\")\n",
    "        # Try entering a number instead of a string\n",
    "        # for isinstance: https://www.w3schools.com/python/ref_func_isinstance.asp\n",
    "        assert isinstance(string_filepath, str), 'Filepath must be a string'      \n",
    "        # Define valid extensions\n",
    "        # endswith python: https://www.w3schools.com/python/ref_string_endswith.asp\n",
    "        endings = ['.FIT', '.FITS', '.fit', '.fits']\n",
    "        # Check if the ending of string_filepath matches any valid extension\n",
    "        assert any(string_filepath.endswith(i) for i in endings), \"Must be of type .FIT, .FITS, .fit, .fits\"\n",
    "        with fits.open(string_filepath) as hdu:\n",
    "            # check if the extension is in range or not\n",
    "            extension_total = len(hdu)\n",
    "            assert extension < extension_total, 'Extension not in range, the extension value must be less than {}'.format(extension_total)\n",
    "            header = hdu[extension].header\n",
    "            data = hdu[extension].data\n",
    "        return header, data\n",
    "    except (AssertionError, ValueError, FileNotFoundError) as msg:\n",
    "        print(msg)\n",
    "        return None, None\n",
    "\n",
    "def plot_image(data, vmin, vmax, figsize=(5, 5), cmap='gray_r', x_axis='Default X Coordinates', y_axis='Default Y Coordinates', title='Title'):\n",
    "    if data is not None:\n",
    "        data_log = np.where(data > 0, np.log(data), 0)\n",
    "        fig, ax = plt.subplots(figsize=figsize)\n",
    "        # still hardcoding the rotation \n",
    "        data_rotated = np.rot90(data_log, 2) \n",
    "        data_rotated[data_rotated == 0] = np.nan\n",
    "        # Plotting and setting titles\n",
    "        im = ax.imshow(data_rotated, cmap=cmap, vmin=vmin, vmax=vmax)\n",
    "        title = f'Log Scale vmin={vmin}, vmax={vmax}'\n",
    "        ax.set_title(title)\n",
    "        ax.set_xlabel(x_axis)\n",
    "        ax.set_ylabel(y_axis)\n",
    "        plt.colorbar(im, ax=ax)\n",
    "        plt.show()\n",
    "\n",
    "header, data = loading_FITS('M51_HST (2).fits')\n",
    "\n",
    "# Define sliders for vmin and vmax\n",
    "vmin_slider = FloatSlider(min=np.min(data)-10, max=np.max(data), step=0.1, description='vmin', value=np.min(data))\n",
    "vmax_slider = FloatSlider(min=np.min(data), max=np.max(data)+10, step=0.1, description='vmax', value=np.max(data))\n",
    "# Reduce Resolution of the image to ten times less of the original to help with speed or processing \n",
    "subsample_slider = FloatSlider(min=1, max=10, step=1, description='Subsample Factor', value=10)\n",
    "\n",
    "# Define interactive plot function\n",
    "def interactive_plot(vmin, vmax):\n",
    "    plot_image(data, vmin, vmax)\n",
    "\n",
    "# Create interactive plot\n",
    "interactive_plot = interactive(interactive_plot, vmin=vmin_slider, vmax=vmax_slider, subsample_factor=subsample_slider)\n",
    "output = interactive_plot.children[-1]\n",
    "output.layout.height = '350px'\n",
    "interactive_plot\n",
    "\n",
    "# use arrow pad to make it easier "
   ]
  },
  {
   "cell_type": "code",
   "execution_count": null,
   "id": "df16fabd",
   "metadata": {},
   "outputs": [],
   "source": []
  }
 ],
 "metadata": {
  "kernelspec": {
   "display_name": "Python 3 (ipykernel)",
   "language": "python",
   "name": "python3"
  },
  "language_info": {
   "codemirror_mode": {
    "name": "ipython",
    "version": 3
   },
   "file_extension": ".py",
   "mimetype": "text/x-python",
   "name": "python",
   "nbconvert_exporter": "python",
   "pygments_lexer": "ipython3",
   "version": "3.9.7"
  }
 },
 "nbformat": 4,
 "nbformat_minor": 5
}
